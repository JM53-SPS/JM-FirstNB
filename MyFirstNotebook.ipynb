{
 "cells": [
  {
   "cell_type": "markdown",
   "id": "49789614-22f5-404a-9fe6-faf440f70cb4",
   "metadata": {},
   "source": [
    "# My Notebook "
   ]
  },
  {
   "cell_type": "markdown",
   "id": "7ea0988e-53f8-44d9-95f6-82ad56b11f6f",
   "metadata": {},
   "source": [
    "Declare two variables"
   ]
  },
  {
   "cell_type": "code",
   "execution_count": 4,
   "id": "7c66f799-345a-4739-9391-314d03ccc20b",
   "metadata": {},
   "outputs": [],
   "source": [
    "x = 4 \n",
    "y = 10"
   ]
  },
  {
   "cell_type": "markdown",
   "id": "6096e659-6eaf-4271-a1fe-f652fb9fde3d",
   "metadata": {},
   "source": [
    "Add two variables"
   ]
  },
  {
   "cell_type": "code",
   "execution_count": 7,
   "id": "b9205e66-56e1-4624-8882-52d6f1ba9b58",
   "metadata": {},
   "outputs": [
    {
     "data": {
      "text/plain": [
       "14"
      ]
     },
     "execution_count": 7,
     "metadata": {},
     "output_type": "execute_result"
    }
   ],
   "source": [
    "x + y"
   ]
  }
 ],
 "metadata": {
  "kernelspec": {
   "display_name": "Python 3 (ipykernel)",
   "language": "python",
   "name": "python3"
  },
  "language_info": {
   "codemirror_mode": {
    "name": "ipython",
    "version": 3
   },
   "file_extension": ".py",
   "mimetype": "text/x-python",
   "name": "python",
   "nbconvert_exporter": "python",
   "pygments_lexer": "ipython3",
   "version": "3.12.4"
  }
 },
 "nbformat": 4,
 "nbformat_minor": 5
}
