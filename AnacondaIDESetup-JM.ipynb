{
 "cells": [
  {
   "cell_type": "markdown",
   "id": "092bcb9d-5b58-4028-9520-b77b323c1bfd",
   "metadata": {},
   "source": [
    "# Anaconda IDE SetUp"
   ]
  },
  {
   "cell_type": "markdown",
   "id": "421512f2-9bdf-4feb-b2e3-d039f071fdf2",
   "metadata": {},
   "source": [
    "Declare Weight of Person 1 Using Variables"
   ]
  },
  {
   "cell_type": "code",
   "execution_count": 11,
   "id": "49aa6784-19f8-461b-b0cc-bf4197401b18",
   "metadata": {},
   "outputs": [],
   "source": [
    "height = 10\n",
    "weight = 120\n",
    "age = 15"
   ]
  },
  {
   "cell_type": "markdown",
   "id": "ecfbc418-d5b2-450e-9e28-c8d011d49c2f",
   "metadata": {},
   "source": [
    "Declare Weight of Person 2 Using Variables"
   ]
  },
  {
   "cell_type": "code",
   "execution_count": 13,
   "id": "2e286585-5231-4cad-9782-33fc29c5a7e3",
   "metadata": {},
   "outputs": [],
   "source": [
    "height2 = 5\n",
    "weight2 = 100\n",
    "age2 = 15"
   ]
  },
  {
   "cell_type": "markdown",
   "id": "a7b5f1e5-19ea-43d1-9b70-00f622d2836b",
   "metadata": {},
   "source": [
    "List height of person 2 and person 1"
   ]
  },
  {
   "cell_type": "code",
   "execution_count": 15,
   "id": "8b0e6c77-df7f-4380-9481-6d7ee384db8f",
   "metadata": {},
   "outputs": [
    {
     "name": "stdout",
     "output_type": "stream",
     "text": [
      "5 10\n"
     ]
    }
   ],
   "source": [
    "print(height2, height)"
   ]
  },
  {
   "cell_type": "code",
   "execution_count": 17,
   "id": "3a7b0c3a-82d5-4459-931d-32a97867350d",
   "metadata": {},
   "outputs": [
    {
     "name": "stdout",
     "output_type": "stream",
     "text": [
      "Hello, Everybody!\n"
     ]
    }
   ],
   "source": [
    "print('Hello, Everybody!')"
   ]
  }
 ],
 "metadata": {
  "kernelspec": {
   "display_name": "Python 3 (ipykernel)",
   "language": "python",
   "name": "python3"
  },
  "language_info": {
   "codemirror_mode": {
    "name": "ipython",
    "version": 3
   },
   "file_extension": ".py",
   "mimetype": "text/x-python",
   "name": "python",
   "nbconvert_exporter": "python",
   "pygments_lexer": "ipython3",
   "version": "3.12.4"
  }
 },
 "nbformat": 4,
 "nbformat_minor": 5
}
